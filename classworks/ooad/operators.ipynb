{
 "cells": [
  {
   "cell_type": "markdown",
   "metadata": {},
   "source": [
    "# Rich Comparision operators\n",
    "-------"
   ]
  },
  {
   "cell_type": "code",
   "execution_count": null,
   "metadata": {},
   "outputs": [
    {
     "name": "stdout",
     "output_type": "stream",
     "text": [
      "4568815536 4568816496\n",
      "False\n",
      "True\n"
     ]
    }
   ],
   "source": [
    "class Vector:\n",
    "  def __init__(self, x, y):\n",
    "    self.__x = x\n",
    "    self.__y = y\n",
    "\n",
    "\n",
    "\n",
    "v1 = Vector(1, 1)\n",
    "v2 = Vector(1, 1)\n",
    "\n",
    "print(id(v1), id(v2))\n",
    "print(v1 == v2)\n",
    "v3 = v1\n",
    "print(v3 == v1)\n",
    "\n",
    "# print(dir(object))\n"
   ]
  },
  {
   "cell_type": "code",
   "execution_count": null,
   "metadata": {},
   "outputs": [
    {
     "name": "stdout",
     "output_type": "stream",
     "text": [
      "Person(name: James, email: james@example.com) Person(name: James, email: james@example.com)\n",
      "== operator called...\n",
      "None\n"
     ]
    }
   ],
   "source": [
    "class Person:\n",
    "  def __init__(self, name, email):\n",
    "    self.__name = name\n",
    "    self.__email = email\n",
    "\n",
    "  def __str__(self):\n",
    "    return f'Person(name: {self.__name}, email: {self.__email})'\n",
    "  \n",
    "  def __eq__(self, other):\n",
    "    print('== operator called...')\n",
    "\n",
    "    if isinstance(other, Person):\n",
    "      return self.__name == other.__name and self.__email == other.__email\n",
    "  \n",
    "    \n",
    "p1 = Person(\"James\", \"james@example.com\")\n",
    "p2 = Person(\"James\", \"james@example.com\")\n",
    "\n",
    "print(p1, p2)\n",
    "print(p1 == 3)"
   ]
  },
  {
   "cell_type": "code",
   "execution_count": 9,
   "metadata": {},
   "outputs": [
    {
     "name": "stdout",
     "output_type": "stream",
     "text": [
      "== operator called...\n",
      "False\n"
     ]
    }
   ],
   "source": [
    "class Person:\n",
    "  def __init__(self, name, email):\n",
    "    self.__name = name\n",
    "    self.__email = email\n",
    "\n",
    "  def __str__(self):\n",
    "    return f'Person(name: {self.__name}, email: {self.__email})'\n",
    "  \n",
    "  def __eq__(self, other):\n",
    "    print('== operator called...')\n",
    "\n",
    "    if isinstance(other, Person):\n",
    "      return self.__name == other.__name and self.__email == other.__email\n",
    "  \n",
    "    \n",
    "p1 = Person(\"James\", \"james@example.com\")\n",
    "p2 = Person(\"James\", \"james@example.com\")\n",
    "\n",
    "print(p1 != p2)"
   ]
  },
  {
   "cell_type": "code",
   "execution_count": 14,
   "metadata": {},
   "outputs": [
    {
     "name": "stdout",
     "output_type": "stream",
     "text": [
      "False\n",
      "True\n"
     ]
    }
   ],
   "source": [
    "class Vector:\n",
    "  def __init__(self, x, y):\n",
    "    self.__x = x\n",
    "    self.__y = y\n",
    "\n",
    "  def __str__(self):\n",
    "    return f'Vector({self.__x}, {self.__y})'\n",
    "\n",
    "  def __eq__(self, other):\n",
    "    if isinstance(other, Vector):\n",
    "      return self.__x == other.__x and self.__y == other.__y\n",
    "    return False\n",
    "  \n",
    "  def __lt__(self, other):\n",
    "    if isinstance(other, Vector):\n",
    "      return self.__x < other.__x and self.__y < other.__y\n",
    "    return False\n",
    "\n",
    "v1 = Vector(1, 1)\n",
    "v2 = Vector(1, 1)\n",
    "v3 = Vector(2, 2)\n",
    "\n",
    "print(v1 < v2)\n",
    "print(v1 < v3)"
   ]
  },
  {
   "cell_type": "code",
   "execution_count": 20,
   "metadata": {},
   "outputs": [
    {
     "name": "stdout",
     "output_type": "stream",
     "text": [
      "True\n"
     ]
    }
   ],
   "source": [
    "class Vector:\n",
    "  def __init__(self, x, y):\n",
    "    self.__x = x\n",
    "    self.__y = y\n",
    "\n",
    "  def __str__(self):\n",
    "    return f'Vector({self.__x}, {self.__y})'\n",
    "\n",
    "  def __eq__(self, other):\n",
    "    if isinstance(other, Vector):\n",
    "      return self.__x == other.__x and self.__y == other.__y\n",
    "    return False\n",
    "  \n",
    "  def __lt__(self, other):\n",
    "    if isinstance(other, Vector):\n",
    "      return self.__x < other.__x and self.__y < other.__y\n",
    "    return False\n",
    "  \n",
    "  def __ge__(self, other):\n",
    "    if isinstance(other, Vector):\n",
    "      return self.__x >= other.__x and self.__y >= other.__y\n",
    "    return False\n",
    "\n",
    "v1 = Vector(1, 1)\n",
    "v2 = Vector(1, 1)\n",
    "v3 = Vector(2, 2)\n",
    "\n",
    "print(v1 <= v1)"
   ]
  },
  {
   "cell_type": "code",
   "execution_count": 23,
   "metadata": {},
   "outputs": [
    {
     "name": "stdout",
     "output_type": "stream",
     "text": [
      "True\n"
     ]
    }
   ],
   "source": [
    "class Vector:\n",
    "  def __init__(self, x, y):\n",
    "    self.__x = x\n",
    "    self.__y = y\n",
    "\n",
    "  def __str__(self):\n",
    "    return f'Vector({self.__x}, {self.__y})'\n",
    "\n",
    "  def __eq__(self, other):\n",
    "    if isinstance(other, tuple):\n",
    "      other = Vector(*other)\n",
    "    if isinstance(other, Vector):\n",
    "      return self.__x == other.__x and self.__y == other.__y\n",
    "    return False\n",
    "  \n",
    "  def __lt__(self, other):\n",
    "    if isinstance(other, Vector):\n",
    "      return self.__x < other.__x and self.__y < other.__y\n",
    "    return False\n",
    "  \n",
    "  def __ge__(self, other):\n",
    "    if isinstance(other, Vector):\n",
    "      return self.__x >= other.__x and self.__y >= other.__y\n",
    "    return False\n",
    "\n",
    "v1 = Vector(1, 1)\n",
    "v2 = Vector(1, 1)\n",
    "v3 = Vector(2, 2)\n",
    "\n",
    "\n",
    "print(v1 == (1, 1))"
   ]
  },
  {
   "cell_type": "markdown",
   "metadata": {},
   "source": [
    "# Hash"
   ]
  },
  {
   "cell_type": "code",
   "execution_count": 39,
   "metadata": {},
   "outputs": [],
   "source": [
    "class Person:\n",
    "  def __init__(self, name):\n",
    "    self.__name = name\n",
    "\n",
    "  def __repr__(self):\n",
    "    return self.__name\n",
    "  \n",
    "p = Person(\"James\")\n",
    "p2 = Person(\"James\")\n",
    "hash(p)\n",
    "\n",
    "\n",
    "persons = {p: \"new Person\", p2: \"another person\"}\n"
   ]
  },
  {
   "cell_type": "code",
   "execution_count": null,
   "metadata": {},
   "outputs": [
    {
     "name": "stdout",
     "output_type": "stream",
     "text": [
      "['__add__', '__class__', '__class_getitem__', '__contains__', '__delattr__', '__delitem__', '__dir__', '__doc__', '__eq__', '__format__', '__ge__', '__getattribute__', '__getitem__', '__gt__', '__hash__', '__iadd__', '__imul__', '__init__', '__init_subclass__', '__iter__', '__le__', '__len__', '__lt__', '__mul__', '__ne__', '__new__', '__reduce__', '__reduce_ex__', '__repr__', '__reversed__', '__rmul__', '__setattr__', '__setitem__', '__sizeof__', '__str__', '__subclasshook__', 'append', 'clear', 'copy', 'count', 'extend', 'index', 'insert', 'pop', 'remove', 'reverse', 'sort']\n"
     ]
    }
   ],
   "source": [
    "class Person:\n",
    "  def __init__(self, name):\n",
    "    self.__name = name\n",
    "\n",
    "  # def __repr__(self):\n",
    "  #   return self.__name\n",
    "  \n",
    "  def __eq__(self, other):\n",
    "    return self.__name == other.__name\n",
    "\n",
    "  \n",
    "\n",
    "  \n",
    "p = Person(\"James\")\n",
    "p2 = Person(\"James\")\n",
    "\n",
    "\n",
    "\n",
    "# ob = {p: \"new object\"}\n",
    "\n",
    "ls = [1, 2, 3]\n",
    "\n",
    "# ob = {ls: \"hello\"}\n",
    "# print(dir(list))\n",
    "\n"
   ]
  },
  {
   "cell_type": "code",
   "execution_count": 55,
   "metadata": {},
   "outputs": [
    {
     "name": "stdout",
     "output_type": "stream",
     "text": [
      "['h', 'e', 'l', 'l', 'o']\n"
     ]
    },
    {
     "data": {
      "text/plain": [
       "{['h', 'e', 'l', 'l', 'o']: 'world'}"
      ]
     },
     "execution_count": 55,
     "metadata": {},
     "output_type": "execute_result"
    }
   ],
   "source": [
    "class MyList(list):\n",
    "  def __hash__(self):\n",
    "    return id(self)\n",
    "  \n",
    "\n",
    "\n",
    "ls = MyList(\"hello\")\n",
    "print(ls)\n",
    "\n",
    "ob = {ls: \"world\"}\n",
    "ob"
   ]
  },
  {
   "cell_type": "code",
   "execution_count": 85,
   "metadata": {},
   "outputs": [
    {
     "name": "stdout",
     "output_type": "stream",
     "text": [
      "__hash__\n",
      "__hash__\n"
     ]
    }
   ],
   "source": [
    "class Person:\n",
    "  def __init__(self, name):\n",
    "    self.__name = name\n",
    "\n",
    "  def __repr__(self):\n",
    "    print('hello repr')\n",
    "    return self.__name\n",
    "  \n",
    "  def __eq__(self, other):\n",
    "    return self.__name == other.__name\n",
    "  \n",
    "\n",
    "  def __hash__(self):\n",
    "    print('__hash__')\n",
    "    return hash(id(self))\n",
    "\n",
    "  \n",
    "p = Person(\"James\")\n",
    "p2 = Person(\"James\")\n",
    "\n",
    "\n",
    "persons = {p: \"new Person\", p2: \"another person\"}\n",
    "\n"
   ]
  },
  {
   "cell_type": "code",
   "execution_count": 87,
   "metadata": {},
   "outputs": [
    {
     "name": "stdout",
     "output_type": "stream",
     "text": [
      "True\n"
     ]
    }
   ],
   "source": [
    "class Vector:\n",
    "  def __init__(self, x, y):\n",
    "    self.__x = x\n",
    "    self.__y = y\n",
    "\n",
    "  def __str__(self):\n",
    "    return f'Vector({self.__x}, {self.__y})'\n",
    "\n",
    "  def __eq__(self, other):\n",
    "    if isinstance(other, tuple):\n",
    "      other = Vector(*other)\n",
    "    if isinstance(other, Vector):\n",
    "      return self.__x == other.__x and self.__y == other.__y\n",
    "    return False\n",
    "  \n",
    "  def __lt__(self, other):\n",
    "    if isinstance(other, Vector):\n",
    "      return self.__x < other.__x and self.__y < other.__y\n",
    "    return False\n",
    "  \n",
    "  def __ge__(self, other):\n",
    "    if isinstance(other, Vector):\n",
    "      return self.__x >= other.__x and self.__y >= other.__y\n",
    "    return False\n",
    "\n",
    "v1 = Vector(1, 1)\n",
    "v2 = Vector(1, 1)\n",
    "v3 = Vector(2, 2)\n",
    "\n",
    "print(bool(v1))"
   ]
  },
  {
   "cell_type": "code",
   "execution_count": 89,
   "metadata": {},
   "outputs": [
    {
     "name": "stdout",
     "output_type": "stream",
     "text": [
      "['__class__', '__delattr__', '__dir__', '__doc__', '__eq__', '__format__', '__ge__', '__getattribute__', '__gt__', '__hash__', '__init__', '__init_subclass__', '__le__', '__lt__', '__ne__', '__new__', '__reduce__', '__reduce_ex__', '__repr__', '__setattr__', '__sizeof__', '__str__', '__subclasshook__']\n"
     ]
    }
   ],
   "source": [
    "print(dir(object))"
   ]
  },
  {
   "cell_type": "code",
   "execution_count": 90,
   "metadata": {},
   "outputs": [
    {
     "name": "stdout",
     "output_type": "stream",
     "text": [
      "True\n"
     ]
    }
   ],
   "source": [
    "class Person:\n",
    "  pass\n",
    "\n",
    "p = Person()\n",
    "\n",
    "print(bool(p))"
   ]
  },
  {
   "cell_type": "code",
   "execution_count": 93,
   "metadata": {},
   "outputs": [
    {
     "name": "stdout",
     "output_type": "stream",
     "text": [
      "__len__ was called\n"
     ]
    },
    {
     "data": {
      "text/plain": [
       "False"
      ]
     },
     "execution_count": 93,
     "metadata": {},
     "output_type": "execute_result"
    }
   ],
   "source": [
    "class Person:\n",
    "  def __len__(self):\n",
    "    print('__len__ was called')\n",
    "    return 0\n",
    "  \n",
    "\n",
    "p = Person()\n",
    "\n",
    "bool(p)"
   ]
  },
  {
   "cell_type": "code",
   "execution_count": 95,
   "metadata": {},
   "outputs": [
    {
     "name": "stdout",
     "output_type": "stream",
     "text": [
      "True\n"
     ]
    }
   ],
   "source": [
    "ls = [1]\n",
    "\n",
    "print(bool(ls))"
   ]
  },
  {
   "cell_type": "code",
   "execution_count": 99,
   "metadata": {},
   "outputs": [
    {
     "name": "stdout",
     "output_type": "stream",
     "text": [
      "False\n"
     ]
    }
   ],
   "source": [
    "class Person:\n",
    "  def __bool__(self):\n",
    "    return False\n",
    "  \n",
    "\n",
    "p = Person()\n",
    "\n",
    "p.__bool__()\n",
    "print(bool(p))"
   ]
  },
  {
   "cell_type": "code",
   "execution_count": 101,
   "metadata": {},
   "outputs": [
    {
     "name": "stdout",
     "output_type": "stream",
     "text": [
      "__call__ called....\n"
     ]
    }
   ],
   "source": [
    "class Mlass:\n",
    "  def __call__(self):\n",
    "    print('__call__ called....')\n",
    "\n",
    "\n",
    "m = Mlass()\n",
    "\n",
    "m()"
   ]
  },
  {
   "cell_type": "code",
   "execution_count": 104,
   "metadata": {},
   "outputs": [
    {
     "name": "stdout",
     "output_type": "stream",
     "text": [
      "<function decorator.<locals>.wrapper at 0x118d943a0>\n",
      "(1, 2)\n",
      "{'arg3': 3}\n"
     ]
    }
   ],
   "source": [
    "def decorator(fn):\n",
    "  def wrapper(*args, **kwargs):\n",
    "    print(args)\n",
    "    print(kwargs)\n",
    "\n",
    "    return fn(*args, **kwargs)\n",
    "  return wrapper\n",
    "\n",
    "@decorator\n",
    "def some_function(arg1, arg2, *, arg3):\n",
    "  pass\n",
    "\n",
    "print(some_function)\n",
    "some_function(1, 2, arg3=3)"
   ]
  },
  {
   "cell_type": "code",
   "execution_count": 105,
   "metadata": {},
   "outputs": [
    {
     "name": "stdout",
     "output_type": "stream",
     "text": [
      "<__main__.Decorator object at 0x11885e320>\n",
      "(1, 2)\n",
      "{'arg3': 12}\n"
     ]
    }
   ],
   "source": [
    "class Decorator:\n",
    "  def __init__(self, fn):\n",
    "    self.fn = fn\n",
    "\n",
    "  def __call__(self, *args, **kwargs):\n",
    "    print(args)\n",
    "    print(kwargs)\n",
    "    return self.fn(*args, **kwargs)\n",
    "\n",
    "\n",
    "@Decorator\n",
    "def some_function(arg1, arg2, *, arg3):\n",
    "  pass\n",
    "\n",
    "print(some_function)\n",
    "\n",
    "some_function(1, 2, arg3=12)"
   ]
  },
  {
   "cell_type": "code",
   "execution_count": 106,
   "metadata": {},
   "outputs": [
    {
     "name": "stdout",
     "output_type": "stream",
     "text": [
      "<class 'functools.partial'>\n"
     ]
    }
   ],
   "source": [
    "from functools import partial\n",
    "\n",
    "print(partial)"
   ]
  },
  {
   "cell_type": "code",
   "execution_count": 110,
   "metadata": {},
   "outputs": [
    {
     "data": {
      "text/plain": [
       "18"
      ]
     },
     "execution_count": 110,
     "metadata": {},
     "output_type": "execute_result"
    }
   ],
   "source": [
    "def add(a, b, c):\n",
    "  return a + b + c\n",
    "\n",
    "\n",
    "\n",
    "new_func = partial(add, 1)\n",
    "\n",
    "new_func(5, 12)"
   ]
  },
  {
   "cell_type": "code",
   "execution_count": 112,
   "metadata": {},
   "outputs": [
    {
     "data": {
      "text/plain": [
       "18"
      ]
     },
     "execution_count": 112,
     "metadata": {},
     "output_type": "execute_result"
    }
   ],
   "source": [
    "class CustomPartial:\n",
    "  def __init__(self, fn, *args):\n",
    "    self.fn = fn\n",
    "    self.args = args\n",
    "\n",
    "  def __call__(self, *args):\n",
    "    return self.fn(*self.args, *args)\n",
    "\n",
    "\n",
    "def add(a, b, c):\n",
    "  return a + b + c\n",
    "\n",
    "\n",
    "\n",
    "new_func = CustomPartial(add, 1)\n",
    "\n",
    "new_func(5, 12)"
   ]
  },
  {
   "cell_type": "code",
   "execution_count": 117,
   "metadata": {},
   "outputs": [
    {
     "data": {
      "text/plain": [
       "7"
      ]
     },
     "execution_count": 117,
     "metadata": {},
     "output_type": "execute_result"
    }
   ],
   "source": [
    "class F:\n",
    "  __arg = 0\n",
    "  def __call__(self):\n",
    "    F.__arg += 1\n",
    "    return self\n",
    "  \n",
    "  def __repr__(self):\n",
    "    return str(F.__arg)\n",
    "  \n",
    "\n",
    "f = F()\n",
    "\n",
    "f()()()()()()()"
   ]
  },
  {
   "cell_type": "code",
   "execution_count": 121,
   "metadata": {},
   "outputs": [
    {
     "ename": "AttributeError",
     "evalue": "'Person' object has no attribute 'x'",
     "output_type": "error",
     "traceback": [
      "\u001b[0;31m---------------------------------------------------------------------------\u001b[0m",
      "\u001b[0;31mAttributeError\u001b[0m                            Traceback (most recent call last)",
      "Cell \u001b[0;32mIn[121], line 13\u001b[0m\n\u001b[1;32m      9\u001b[0m p\u001b[38;5;241m.\u001b[39mname\n\u001b[1;32m     10\u001b[0m p\u001b[38;5;241m.\u001b[39mage\n\u001b[0;32m---> 13\u001b[0m \u001b[43mp\u001b[49m\u001b[38;5;241;43m.\u001b[39;49m\u001b[43mx\u001b[49m \u001b[38;5;241m=\u001b[39m \u001b[38;5;241m23\u001b[39m\n",
      "\u001b[0;31mAttributeError\u001b[0m: 'Person' object has no attribute 'x'"
     ]
    }
   ],
   "source": [
    "class Person:\n",
    "  __slots__ = ('name', 'age')\n",
    "\n",
    "  def __init__(self, name, age):\n",
    "    self.name = name \n",
    "    self.age = age\n",
    "\n",
    "p = Person('James', 23)\n",
    "p.name\n",
    "p.age\n",
    "\n",
    "\n",
    "p.x = 23"
   ]
  },
  {
   "cell_type": "code",
   "execution_count": null,
   "metadata": {},
   "outputs": [],
   "source": []
  }
 ],
 "metadata": {
  "kernelspec": {
   "display_name": "Python 3",
   "language": "python",
   "name": "python3"
  },
  "language_info": {
   "codemirror_mode": {
    "name": "ipython",
    "version": 3
   },
   "file_extension": ".py",
   "mimetype": "text/x-python",
   "name": "python",
   "nbconvert_exporter": "python",
   "pygments_lexer": "ipython3",
   "version": "3.10.7"
  }
 },
 "nbformat": 4,
 "nbformat_minor": 2
}
